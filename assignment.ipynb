{
 "cells": [
  {
   "cell_type": "markdown",
   "id": "6d6f145c-7447-48fd-a3ee-a3add8674568",
   "metadata": {},
   "source": [
    "answer = 1 "
   ]
  },
  {
   "cell_type": "code",
   "execution_count": null,
   "id": "4723c1a8-c01b-4801-931f-c11bbe6a20bc",
   "metadata": {},
   "outputs": [],
   "source": [
    "in OOP, abstraction involves creating abstract classes or interfaces that\n",
    "define a blueprint for other classes to inherit from."
   ]
  },
  {
   "cell_type": "code",
   "execution_count": null,
   "id": "6d01da3e-2dd6-4991-a5ba-b45e8a8615b3",
   "metadata": {},
   "outputs": [],
   "source": [
    "Abstraction in Python is the process of hiding the implementation details and \n",
    "showing only the functionality1. To create an abstract class in Python, you\n",
    "need to import the abc module and use the @abstractmethod decorator for the\n",
    "abstract methods234. An abstract class cannot be instantiated, but it can be\n",
    "inherited by other classes that implement the abstract methods234. For example, an abstract class Pet can have an abstract method makesound that is implemented by subclasses like Dog or Cat2."
   ]
  },
  {
   "cell_type": "code",
   "execution_count": null,
   "id": "c0798be1-01c5-4770-b004-6842f3dc2431",
   "metadata": {},
   "outputs": [],
   "source": [
    "import abc\n",
    "class class1:\n",
    "    \n",
    "    @abc.abstractmethod\n",
    "    def no_of_studends(self):\n",
    "        pass\n",
    "    @abc.abstractmethod\n",
    "    def no_of_teachers(self):\n",
    "        pass\n",
    "       \n",
    "    "
   ]
  },
  {
   "cell_type": "code",
   "execution_count": null,
   "id": "4aa8d877-c342-4ed0-b90b-7367546e37a7",
   "metadata": {},
   "outputs": [],
   "source": [
    "class class2(class1):\n",
    "    def no_of_studends(self,num):\n",
    "        self.num = num \n",
    "        return self.num\n",
    "    def no_of_teachers(self, nums):\n",
    "        self.nums = nums\n",
    "        return self.nums\n",
    "    "
   ]
  },
  {
   "cell_type": "code",
   "execution_count": null,
   "id": "88ed0a5a-e8f7-4ca6-a8de-232ff6ca7b08",
   "metadata": {},
   "outputs": [],
   "source": [
    "obj = class2()"
   ]
  },
  {
   "cell_type": "code",
   "execution_count": null,
   "id": "61a4a6fb-bb13-4cf1-a2c1-ddbe22496969",
   "metadata": {},
   "outputs": [],
   "source": []
  },
  {
   "cell_type": "markdown",
   "id": "55214de0-8cd6-4bd0-9554-4ea773c6a70c",
   "metadata": {},
   "source": [
    "ANSWER = 2"
   ]
  },
  {
   "cell_type": "code",
   "execution_count": null,
   "id": "0acb554b-db7b-4750-8c91-e369d99322f1",
   "metadata": {},
   "outputs": [],
   "source": [
    "Abstraction is the process of hiding the implementation details of a class or\n",
    "a function and only exposing the essential features or interfaces. Abstraction \n",
    "helps to reduce complexity and increase readability of the code. For example, \n",
    "when you use a built-in function like len() in Python, you don’t need to know \n",
    "how it works internally, you just need to know what it does and how to use it.\n",
    "Abstraction is achieved by creating classes and defining methods that\n",
    "represent the behavior or functionality of the objects."
   ]
  },
  {
   "cell_type": "code",
   "execution_count": null,
   "id": "a6477aff-ef1c-4a97-a0fa-a91a31d05408",
   "metadata": {},
   "outputs": [],
   "source": [
    "Encapsulation is the process of wrapping data and methods into a single unit or\n",
    "object and controlling the way they are accessed. Encapsulation helps to protect\n",
    "the data from being modified or accessed by unauthorized parties. For example, \n",
    "when you create a class in Python, you can use private variables and methods \n",
    "that start with an underscore _ to indicate that they are not meant to be \n",
    "accessed outside the class. You can also use getters and setters to provide \n",
    "controlled access to the attributes of the class. Encapsulation is achieved by\n",
    "using access modifiers and properties."
   ]
  },
  {
   "cell_type": "code",
   "execution_count": null,
   "id": "c131f128-dd77-4630-ae68-fbbefc49a95f",
   "metadata": {},
   "outputs": [],
   "source": [
    "following is example of abstractmethod"
   ]
  },
  {
   "cell_type": "code",
   "execution_count": null,
   "id": "4d180ad9-aa9c-4272-ab40-bc747209e86c",
   "metadata": {},
   "outputs": [],
   "source": [
    "from abc import ABC, abstractmethod\n",
    "\n",
    "class Shape(ABC):\n",
    "    @abstractmethod\n",
    "    def draw(self):\n",
    "        pass\n",
    "\n",
    "class Circle(Shape):\n",
    "    def draw(self):\n",
    "        print(\"Drawing a circle\")\n",
    "\n",
    "class Square(Shape):\n",
    "    def draw(self):\n",
    "        print(\"Drawing a square\")\n"
   ]
  },
  {
   "cell_type": "code",
   "execution_count": null,
   "id": "c9da52c7-8bca-41d8-a938-d9a2c8a0add4",
   "metadata": {},
   "outputs": [],
   "source": [
    "following is example of encapsulation "
   ]
  },
  {
   "cell_type": "code",
   "execution_count": null,
   "id": "7b371550-263f-4920-9df4-404160445119",
   "metadata": {},
   "outputs": [],
   "source": []
  },
  {
   "cell_type": "code",
   "execution_count": null,
   "id": "49a832ba-814d-42dc-8a04-4747c17d3f78",
   "metadata": {},
   "outputs": [],
   "source": [
    "class BankAccount:\n",
    "    def __init__(self, account_number, balance):\n",
    "        self._account_number = account_number  # Encapsulated attribute\n",
    "        self._balance = balance  # Encapsulated attribute\n",
    "\n",
    "    def get_balance(self):\n",
    "        return self._balance\n",
    "\n",
    "    def deposit(self, amount):\n",
    "        if amount > 0:\n",
    "            self._balance += amount\n",
    "\n",
    "    def withdraw(self, amount):\n",
    "        if 0 < amount <= self._balance:\n",
    "            self._balance -= amount\n",
    "\n",
    "# Usage example\n",
    "account = BankAccount(account_number=\"12345\", balance=1000)\n",
    "print(account.get_balance())  # Accessing balance through a method\n",
    "account.deposit(500)  # Modifying balance through a method\n",
    "account.withdraw(200)  # Modifying balance through a method\n"
   ]
  },
  {
   "cell_type": "code",
   "execution_count": null,
   "id": "e6c69765-6c04-4d5d-812d-8f52c84d25a9",
   "metadata": {},
   "outputs": [],
   "source": []
  },
  {
   "cell_type": "markdown",
   "id": "26d5b658-8428-401b-a2d5-578dc739799d",
   "metadata": {},
   "source": [
    "ANSWER = 3"
   ]
  },
  {
   "cell_type": "code",
   "execution_count": null,
   "id": "6ea6ffc6-6027-471a-8dbe-e80a734f7f8f",
   "metadata": {},
   "outputs": [],
   "source": [
    "The abc module in Python stands for \"Abstract Base Classes.\" It provides a way \n",
    "to define abstract base classes in Python, which are classes that cannot be\n",
    "instantiated themselves but can be subclassed by other classes. Abstract base \n",
    "classes are used to define a common interface for a group of related classes,\n",
    "ensuring that subclasses implement specific methods or properties."
   ]
  },
  {
   "cell_type": "code",
   "execution_count": null,
   "id": "ddc3d7f3-b4c6-4c11-82d1-dc8da0b1fb59",
   "metadata": {},
   "outputs": [],
   "source": [
    "The abc module provides the ABC (Abstract Base Class) and abstractmethod \n",
    "decorators, which allow you to define abstract classes and abstract methods,\n",
    "respectively. Abstract methods are methods that must be implemented by any \n",
    "concrete (i.e., non-abstract) subclass.\n",
    "following is example "
   ]
  },
  {
   "cell_type": "code",
   "execution_count": null,
   "id": "3cc34895-4c9b-48c5-a71a-56d41b407024",
   "metadata": {},
   "outputs": [],
   "source": [
    "from abc import ABC ,abstractmethod\n",
    "\n",
    "class classabc(ABC):\n",
    "    @abstractmethod\n",
    "    def fun(self):\n",
    "        pass"
   ]
  },
  {
   "cell_type": "code",
   "execution_count": null,
   "id": "a1a384d3-6755-4742-ae3a-9ff9e994e429",
   "metadata": {},
   "outputs": [],
   "source": []
  },
  {
   "cell_type": "markdown",
   "id": "f7f33249-945e-4316-a6f8-98a5dc2dfbd7",
   "metadata": {},
   "source": [
    "ANSWER = 4"
   ]
  },
  {
   "cell_type": "code",
   "execution_count": null,
   "id": "423b6c7f-f877-4845-84cd-533f98eeba71",
   "metadata": {},
   "outputs": [],
   "source": [
    "Data abstraction is a key concept in object-oriented programming (OOP) that\n",
    "allows you to hide the implementation details of a class and only expose the\n",
    "essential features. In Python, you can achieve data abstraction through the use\n",
    "of classes and encapsulation. "
   ]
  },
  {
   "cell_type": "code",
   "execution_count": null,
   "id": "59931e28-00e0-40ba-ae8b-651ae8f061ea",
   "metadata": {},
   "outputs": [],
   "source": []
  },
  {
   "cell_type": "code",
   "execution_count": null,
   "id": "49aaaf4f-7d43-4d25-ae5d-094954b0fddc",
   "metadata": {},
   "outputs": [],
   "source": []
  },
  {
   "cell_type": "markdown",
   "id": "528b92ec-6e51-4fb8-a93a-25d32c8a6659",
   "metadata": {},
   "source": [
    "ANSWER = 5"
   ]
  },
  {
   "cell_type": "code",
   "execution_count": null,
   "id": "fb8d2646-6b7e-4a49-bae9-eed612229c63",
   "metadata": {},
   "outputs": [],
   "source": [
    "No, you cannot create an instance of an abstract class in Python. Abstract\n",
    "classes are meant to be incomplete, and they cannot be instantiated directly.\n",
    "Instead, they serve as blueprints or templates for other classes that derive\n",
    "from them. Abstract classes may contain abstract methods, which are methods\n",
    "without an implementation. These abstract methods must be implemented by\n",
    "concrete subclasses."
   ]
  },
  {
   "cell_type": "code",
   "execution_count": null,
   "id": "78fbba76-6bd2-4490-a846-403a83c8cae9",
   "metadata": {},
   "outputs": [],
   "source": [
    "Attempting to create an instance of the abstract class will raise an error:"
   ]
  },
  {
   "cell_type": "code",
   "execution_count": null,
   "id": "cdb52f2c-47a8-4a8f-aa30-d54b3c07f18c",
   "metadata": {},
   "outputs": [],
   "source": []
  },
  {
   "cell_type": "markdown",
   "id": "453ba320-4bbf-4bba-bb6b-9df72231d00d",
   "metadata": {},
   "source": []
  },
  {
   "cell_type": "code",
   "execution_count": null,
   "id": "dd93625d-e225-4a81-8f09-512d06f035dd",
   "metadata": {},
   "outputs": [],
   "source": []
  }
 ],
 "metadata": {
  "kernelspec": {
   "display_name": "Python 3 (ipykernel)",
   "language": "python",
   "name": "python3"
  },
  "language_info": {
   "codemirror_mode": {
    "name": "ipython",
    "version": 3
   },
   "file_extension": ".py",
   "mimetype": "text/x-python",
   "name": "python",
   "nbconvert_exporter": "python",
   "pygments_lexer": "ipython3",
   "version": "3.10.8"
  }
 },
 "nbformat": 4,
 "nbformat_minor": 5
}
